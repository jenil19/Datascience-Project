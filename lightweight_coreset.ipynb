{
 "cells": [
  {
   "cell_type": "code",
   "execution_count": 1,
   "metadata": {},
   "outputs": [],
   "source": [
    "import pandas as pd\n",
    "import sys\n",
    "import random\n",
    "import time\n",
    "import numpy as np\n",
    "import pandas.compat as ct\n",
    "import matplotlib.pyplot as plt\n",
    "from sklearn.cluster import KMeans"
   ]
  },
  {
   "cell_type": "code",
   "execution_count": 2,
   "metadata": {},
   "outputs": [],
   "source": [
    "#reading_data\n",
    "train_data=pd.read_csv('bio_train.dat',header=None,delimiter='\\t')"
   ]
  },
  {
   "cell_type": "code",
   "execution_count": 3,
   "metadata": {},
   "outputs": [
    {
     "data": {
      "text/plain": [
       "Int64Index([ 0,  1,  2,  3,  4,  5,  6,  7,  8,  9, 10, 11, 12, 13, 14, 15, 16,\n",
       "            17, 18, 19, 20, 21, 22, 23, 24, 25, 26, 27, 28, 29, 30, 31, 32, 33,\n",
       "            34, 35, 36, 37, 38, 39, 40, 41, 42, 43, 44, 45, 46, 47, 48, 49, 50,\n",
       "            51, 52, 53, 54, 55, 56, 57, 58, 59, 60, 61, 62, 63, 64, 65, 66, 67,\n",
       "            68, 69, 70, 71, 72, 73, 74, 75, 76],\n",
       "           dtype='int64')"
      ]
     },
     "execution_count": 3,
     "metadata": {},
     "output_type": "execute_result"
    }
   ],
   "source": [
    "#columns(Sequence_Id,Example_Id,Homologous,Features...)\n",
    "train_data.columns"
   ]
  },
  {
   "cell_type": "code",
   "execution_count": 4,
   "metadata": {},
   "outputs": [],
   "source": [
    "#calculation of mean for lightweight coreset\n",
    "st=time.time()\n",
    "mean=train_data.iloc[:,3:].mean()\n"
   ]
  },
  {
   "cell_type": "code",
   "execution_count": 5,
   "metadata": {},
   "outputs": [],
   "source": [
    "#calculation of q for lightweight coreset\n",
    "distances=np.sum((train_data.iloc[:,3:]-mean)**2,axis=1)\n",
    "distances=distances/np.sum(distances,axis=0)\n",
    "prob= 0.5* 1/len(train_data) + 0.5 * distances\n",
    "add=time.time()-st"
   ]
  },
  {
   "cell_type": "code",
   "execution_count": 8,
   "metadata": {},
   "outputs": [],
   "source": [
    "#function to get coreset of size m using lightweight coreset\n",
    "def getcoreset(m):\n",
    "    indices=np.random.choice(range(len(train_data)),m,replace=True,p=prob)\n",
    "    prob_coreset=1/(m*prob[indices])\n",
    "    coreset=pd.DataFrame(train_data.iloc[indices,3:],index=indices)\n",
    "    return np.array(coreset),np.array(prob_coreset).reshape(1,m)\n",
    "    \n",
    "    "
   ]
  },
  {
   "cell_type": "code",
   "execution_count": 9,
   "metadata": {},
   "outputs": [],
   "source": [
    "#function to get coreset of size m using protras algorithm\n",
    "def farthestfirst(m):\n",
    "    centers=[]\n",
    "    distances=[]\n",
    "    centers.append(random.randint(0,len(train_data)))\n",
    "    min_val=np.full((len(train_data),1),np.inf)\n",
    "    cur=0\n",
    "    while(len(centers)<m):\n",
    "        if cur==0:\n",
    "            distances=np.linalg.norm(train_data.iloc[:,3:]-train_data.iloc[centers[cur],3:],axis=1,keepdims=True)\n",
    "        else:\n",
    "            d_latest=np.linalg.norm(train_data.iloc[:,3:]-train_data.iloc[centers[cur],3:],axis=1,keepdims=True)\n",
    "            distances=np.concatenate((distances,d_latest),axis=1)\n",
    "        arg_mins=np.argmin(distances,axis=1)\n",
    "        #print(arg_mins)\n",
    "        max_wd=0\n",
    "        pt=-1\n",
    "        for i in range(cur+1):\n",
    "            indices=np.where(arg_mins==i)[0]\n",
    "            p=np.max(distances[indices,i])\n",
    "            max_val=p*len(indices)\n",
    "            if max_wd<max_val:\n",
    "                max_wd=p\n",
    "                pt=indices[np.argmax(distances[indices,i])]\n",
    "        centers.append(pt)    \n",
    "        cur+=1\n",
    "    return np.array(train_data.iloc[centers,3:])\n",
    "        \n",
    "        "
   ]
  },
  {
   "cell_type": "code",
   "execution_count": 10,
   "metadata": {},
   "outputs": [],
   "source": [
    "#function to calculate quantization error\n",
    "def objective_function(df,centers,weights):\n",
    "    min_val=np.full((len(df),1),np.inf)\n",
    "    for j in centers:\n",
    "        ar=np.linalg.norm(df-j,axis=1,keepdims=True)\n",
    "        np.amin(np.concatenate((min_val,ar),axis=1),axis=1,keepdims=True,out=min_val)\n",
    "    #print(min_val.shape,weights.shape)\n",
    "    return np.matmul(weights,min_val).ravel()[0]\n"
   ]
  },
  {
   "cell_type": "code",
   "execution_count": 11,
   "metadata": {},
   "outputs": [],
   "source": [
    "# function to perform experiments on lightweight coreset with coreset size=m\n",
    "def evaluate_coreset(m,centers=50):\n",
    "    start=time.time()\n",
    "    coreset,weights=getcoreset(m)\n",
    "    end=time.time()-start+add\n",
    "    res=KMeans(n_clusters=centers,n_init=50).fit(coreset)\n",
    "    loss=objective_function(coreset,res.cluster_centers_,weights)\n",
    "    print(\"loss for \",m,\" samples for lightweight coreset = \",loss)\n",
    "    print(\"total time taken is\",time.time()-start)\n",
    "    return loss,end\n",
    "    "
   ]
  },
  {
   "cell_type": "code",
   "execution_count": 12,
   "metadata": {},
   "outputs": [],
   "source": [
    "# function to perform experiments on ProTras with coreset size=m\n",
    "def evaluate_fft(m,centers=50):\n",
    "    start=time.time()\n",
    "    coreset=farthestfirst(m)\n",
    "    end=time.time()-start\n",
    "    res=KMeans(n_clusters=centers,n_init=50).fit(coreset)\n",
    "    loss=objective_function(coreset,res.cluster_centers_,np.ones((1,m)))\n",
    "    print(\"loss for \",m,\" samples for farthest first = \",loss)\n",
    "    print(\"total time taken is\",time.time()-start)\n",
    "    return loss,end"
   ]
  },
  {
   "cell_type": "code",
   "execution_count": 13,
   "metadata": {},
   "outputs": [],
   "source": [
    "# function to perform experiments on Uniform subsampling with coreset size=m\n",
    "def evaluate_uniform(m,centers=50):\n",
    "    start=time.time()\n",
    "    indices=np.random.choice(range(len(train_data)),m,replace=True)\n",
    "    coreset=train_data.iloc[indices,3:]\n",
    "    end=time.time()-start\n",
    "    res=KMeans(n_clusters=centers,n_init=50).fit(coreset)\n",
    "    loss=objective_function(coreset,res.cluster_centers_,np.ones((1,m)))\n",
    "    print(\"loss for \",m,\" samples for uniform sampling = \",loss)\n",
    "    print(\"total time taken is\",time.time()-start)\n",
    "    return loss,end"
   ]
  },
  {
   "cell_type": "code",
   "execution_count": 60,
   "metadata": {},
   "outputs": [
    {
     "name": "stdout",
     "output_type": "stream",
     "text": [
      "loss for full dataset is  151899183.56066716\n",
      "total time taken is 390.54020071029663\n"
     ]
    }
   ],
   "source": [
    "# calculation of quantization error on full dataset\n",
    "start=time.time()\n",
    "res=KMeans(n_clusters=50).fit(train_data.iloc[:,3:])\n",
    "loss_full=objective_function(np.array(train_data.iloc[:,3:]),res.cluster_centers_,np.ones((1,len(train_data))))\n",
    "print(\"loss for full dataset is \",loss_full)\n",
    "print(\"total time taken is\",time.time()-start)"
   ]
  },
  {
   "cell_type": "code",
   "execution_count": 28,
   "metadata": {},
   "outputs": [
    {
     "name": "stdout",
     "output_type": "stream",
     "text": [
      "loss for  100  samples for lightweight coreset =  94487776.65924554\n",
      "total time taken is 1.5237984657287598\n",
      "loss for  200  samples for lightweight coreset =  143814420.42101818\n",
      "total time taken is 2.7878246307373047\n",
      "loss for  500  samples for lightweight coreset =  161668327.1157684\n",
      "total time taken is 3.951779842376709\n",
      "loss for  1000  samples for lightweight coreset =  160162528.9244365\n",
      "total time taken is 6.203278064727783\n"
     ]
    }
   ],
   "source": [
    "#experiments on lightweight coreset\n",
    "uniform_time=[]\n",
    "uniform_loss=[]\n",
    "fft_loss,fft_time=[],[]\n",
    "lcoreset_loss,lcoreset_time=[],[]\n",
    "for i in [100,200,500,1000]:\n",
    "    loss,tme=evaluate_coreset(i)\n",
    "    lcoreset_time.append(tme)\n",
    "    lcoreset_loss.append(loss)\n",
    "a=[]\n",
    "a.append('Sequence_id')\n",
    "a.append('Example_id')\n",
    "a.append('Homologous')\n",
    "for i in range(74):\n",
    "    a.append('feature_'+str(i))\n",
    "train_data.columns=a\n",
    "    \n"
   ]
  },
  {
   "cell_type": "code",
   "execution_count": 64,
   "metadata": {},
   "outputs": [
    {
     "name": "stdout",
     "output_type": "stream",
     "text": [
      "loss for  100  samples for uniform sampling =  41004.98503418902\n",
      "total time taken is 2.144543409347534\n",
      "loss for  200  samples for uniform sampling =  138700.39966072934\n",
      "total time taken is 3.3499221801757812\n",
      "loss for  500  samples for uniform sampling =  457818.961370684\n",
      "total time taken is 4.166352033615112\n",
      "loss for  1000  samples for uniform sampling =  971755.5195884288\n",
      "total time taken is 5.704540014266968\n"
     ]
    }
   ],
   "source": [
    "#experiments on uniform subsampling\n",
    "for i in [100,200,500,1000]:    \n",
    "    loss,tme=evaluate_uniform(i)\n",
    "    uniform_time.append(tme)\n",
    "    uniform_loss.append(loss)"
   ]
  },
  {
   "cell_type": "code",
   "execution_count": 65,
   "metadata": {},
   "outputs": [
    {
     "name": "stdout",
     "output_type": "stream",
     "text": [
      "loss for  100  samples for farthest first =  118513.1092884527\n",
      "total time taken is 20.088097095489502\n",
      "loss for  200  samples for farthest first =  441109.21497638564\n",
      "total time taken is 67.85809373855591\n",
      "loss for  500  samples for farthest first =  1130916.5823197986\n",
      "total time taken is 187.47746062278748\n",
      "loss for  1000  samples for farthest first =  2226736.717673872\n",
      "total time taken is 486.2215631008148\n"
     ]
    }
   ],
   "source": [
    "#experiments on ProTras\n",
    "for i in [100,200,500,1000]:\n",
    "    loss,tme=evaluate_fft(i)\n",
    "    fft_time.append(tme)\n",
    "    fft_loss.append(loss)\n",
    "\n"
   ]
  },
  {
   "cell_type": "code",
   "execution_count": 66,
   "metadata": {},
   "outputs": [],
   "source": [
    "#calculation of relative error\n",
    "loss1,loss2,loss3=[],[],[]\n",
    "for i in range(4):\n",
    "    loss1.append(abs(uniform_loss[i]-loss_full)/loss_full)\n",
    "    loss2.append(abs(lcoreset_loss[i]-loss_full)/loss_full)\n",
    "    loss3.append(abs(fft_loss[i]-loss_full)/loss_full)"
   ]
  },
  {
   "cell_type": "code",
   "execution_count": 69,
   "metadata": {},
   "outputs": [
    {
     "data": {
      "image/png": "[encoded data removed]",
      "text/plain": [
       "<Figure size 432x288 with 1 Axes>"
      ]
     },
     "metadata": {
      "needs_background": "light"
     },
     "output_type": "display_data"
    }
   ],
   "source": [
    "#generate plot of coreset size vs relative error\n",
    "plt.plot([100,200,500,1000],loss1,color='green',linestyle='dashed',label='uniform_sampling')\n",
    "plt.plot([100,200,500,1000],loss2,color='blue',linestyle=':',label='coreset_sampling')\n",
    "plt.plot([100,200,500,1000],loss3,color='red',linestyle='-',label='fft based sampling')\n",
    "plt.xlabel('coreset size')\n",
    "plt.ylabel('relative error')\n",
    "plt.legend(['uniform','lightweight_coreset','fft based'])\n",
    "plt.title('Comparison of relative error ')\n",
    "plt.savefig('comp.png')"
   ]
  },
  {
   "cell_type": "code",
   "execution_count": 70,
   "metadata": {},
   "outputs": [
    {
     "data": {
      "image/png": "[encoded data removed]",
      "text/plain": [
       "<Figure size 432x288 with 1 Axes>"
      ]
     },
     "metadata": {
      "needs_background": "light"
     },
     "output_type": "display_data"
    }
   ],
   "source": [
    "#generate plot of coreset size vs time\n",
    "plt.plot([100,200,500,1000],uniform_time,color='green',linestyle='-')\n",
    "plt.plot([100,200,500,1000],lcoreset_time,color='blue',linestyle='--')\n",
    "plt.plot([100,200,500,1000],fft_time,color='red',linestyle='--')\n",
    "plt.xlabel('coreset_size')\n",
    "plt.ylabel('time(In seconds)')\n",
    "plt.legend(['uniform','lightweight_coreset','fft based'])\n",
    "plt.title('Comparison of time ')\n",
    "plt.savefig('time.png')"
   ]
  },
  {
   "cell_type": "code",
   "execution_count": null,
   "metadata": {},
   "outputs": [],
   "source": []
  }
 ],
 "metadata": {
  "kernelspec": {
   "display_name": "Python 3",
   "language": "python",
   "name": "python3"
  },
  "language_info": {
   "codemirror_mode": {
    "name": "ipython",
    "version": 3
   },
   "file_extension": ".py",
   "mimetype": "text/x-python",
   "name": "python",
   "nbconvert_exporter": "python",
   "pygments_lexer": "ipython3",
   "version": "3.6.9"
  }
 },
 "nbformat": 4,
 "nbformat_minor": 2
}
